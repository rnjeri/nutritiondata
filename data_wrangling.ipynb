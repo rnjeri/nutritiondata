{
 "cells": [
  {
   "cell_type": "markdown",
   "metadata": {},
   "source": [
    "### Simple Data Wrangling Using UN Data to Show Correlation Between Civil War and Malnutrition"
   ]
  },
  {
   "cell_type": "code",
   "execution_count": 1,
   "metadata": {
    "collapsed": false
   },
   "outputs": [],
   "source": [
    "import pandas as pd\n",
    "import matplotlib.pyplot as plt\n",
    "% matplotlib inline\n",
    "plt.style.use('ggplot')"
   ]
  },
  {
   "cell_type": "code",
   "execution_count": 2,
   "metadata": {
    "collapsed": true
   },
   "outputs": [],
   "source": [
    "df = pd.read_csv('UNdata_Export.csv')"
   ]
  },
  {
   "cell_type": "code",
   "execution_count": 3,
   "metadata": {
    "collapsed": true
   },
   "outputs": [],
   "source": [
    "df.drop(df.index[5600:], inplace = True)"
   ]
  },
  {
   "cell_type": "code",
   "execution_count": 4,
   "metadata": {
    "collapsed": false
   },
   "outputs": [
    {
     "data": {
      "text/html": [
       "<div>\n",
       "<style>\n",
       "    .dataframe thead tr:only-child th {\n",
       "        text-align: right;\n",
       "    }\n",
       "\n",
       "    .dataframe thead th {\n",
       "        text-align: left;\n",
       "    }\n",
       "\n",
       "    .dataframe tbody tr th {\n",
       "        vertical-align: top;\n",
       "    }\n",
       "</style>\n",
       "<table border=\"1\" class=\"dataframe\">\n",
       "  <thead>\n",
       "    <tr style=\"text-align: right;\">\n",
       "      <th></th>\n",
       "      <th>Country or Area</th>\n",
       "      <th>Year</th>\n",
       "      <th>Value</th>\n",
       "      <th>Value Footnotes</th>\n",
       "    </tr>\n",
       "  </thead>\n",
       "  <tbody>\n",
       "    <tr>\n",
       "      <th>0</th>\n",
       "      <td>Afghanistan</td>\n",
       "      <td>2015</td>\n",
       "      <td>26.8</td>\n",
       "      <td>1</td>\n",
       "    </tr>\n",
       "    <tr>\n",
       "      <th>1</th>\n",
       "      <td>Afghanistan</td>\n",
       "      <td>2014</td>\n",
       "      <td>26.0</td>\n",
       "      <td>2</td>\n",
       "    </tr>\n",
       "    <tr>\n",
       "      <th>2</th>\n",
       "      <td>Afghanistan</td>\n",
       "      <td>2013</td>\n",
       "      <td>25.1</td>\n",
       "      <td>3</td>\n",
       "    </tr>\n",
       "    <tr>\n",
       "      <th>3</th>\n",
       "      <td>Afghanistan</td>\n",
       "      <td>2012</td>\n",
       "      <td>24.4</td>\n",
       "      <td>4</td>\n",
       "    </tr>\n",
       "    <tr>\n",
       "      <th>4</th>\n",
       "      <td>Afghanistan</td>\n",
       "      <td>2011</td>\n",
       "      <td>24.3</td>\n",
       "      <td>5</td>\n",
       "    </tr>\n",
       "  </tbody>\n",
       "</table>\n",
       "</div>"
      ],
      "text/plain": [
       "  Country or Area  Year  Value Value Footnotes\n",
       "0     Afghanistan  2015   26.8               1\n",
       "1     Afghanistan  2014   26.0               2\n",
       "2     Afghanistan  2013   25.1               3\n",
       "3     Afghanistan  2012   24.4               4\n",
       "4     Afghanistan  2011   24.3               5"
      ]
     },
     "execution_count": 4,
     "metadata": {},
     "output_type": "execute_result"
    }
   ],
   "source": [
    "df.head()"
   ]
  },
  {
   "cell_type": "code",
   "execution_count": 5,
   "metadata": {
    "collapsed": false,
    "scrolled": true
   },
   "outputs": [
    {
     "name": "stdout",
     "output_type": "stream",
     "text": [
      "<class 'pandas.core.frame.DataFrame'>\n",
      "Int64Index: 5600 entries, 0 to 5599\n",
      "Data columns (total 4 columns):\n",
      "Country or Area    5600 non-null object\n",
      "Year               5600 non-null object\n",
      "Value              4262 non-null float64\n",
      "Value Footnotes    5600 non-null object\n",
      "dtypes: float64(1), object(3)\n",
      "memory usage: 218.8+ KB\n"
     ]
    }
   ],
   "source": [
    "df.info()"
   ]
  },
  {
   "cell_type": "code",
   "execution_count": 6,
   "metadata": {
    "collapsed": false
   },
   "outputs": [
    {
     "data": {
      "text/html": [
       "<div>\n",
       "<style>\n",
       "    .dataframe thead tr:only-child th {\n",
       "        text-align: right;\n",
       "    }\n",
       "\n",
       "    .dataframe thead th {\n",
       "        text-align: left;\n",
       "    }\n",
       "\n",
       "    .dataframe tbody tr th {\n",
       "        vertical-align: top;\n",
       "    }\n",
       "</style>\n",
       "<table border=\"1\" class=\"dataframe\">\n",
       "  <thead>\n",
       "    <tr style=\"text-align: right;\">\n",
       "      <th></th>\n",
       "      <th>Value</th>\n",
       "    </tr>\n",
       "  </thead>\n",
       "  <tbody>\n",
       "    <tr>\n",
       "      <th>count</th>\n",
       "      <td>4262.000000</td>\n",
       "    </tr>\n",
       "    <tr>\n",
       "      <th>mean</th>\n",
       "      <td>14.703355</td>\n",
       "    </tr>\n",
       "    <tr>\n",
       "      <th>std</th>\n",
       "      <td>13.517863</td>\n",
       "    </tr>\n",
       "    <tr>\n",
       "      <th>min</th>\n",
       "      <td>5.000000</td>\n",
       "    </tr>\n",
       "    <tr>\n",
       "      <th>25%</th>\n",
       "      <td>5.000000</td>\n",
       "    </tr>\n",
       "    <tr>\n",
       "      <th>50%</th>\n",
       "      <td>6.600000</td>\n",
       "    </tr>\n",
       "    <tr>\n",
       "      <th>75%</th>\n",
       "      <td>22.100000</td>\n",
       "    </tr>\n",
       "    <tr>\n",
       "      <th>max</th>\n",
       "      <td>80.800000</td>\n",
       "    </tr>\n",
       "  </tbody>\n",
       "</table>\n",
       "</div>"
      ],
      "text/plain": [
       "             Value\n",
       "count  4262.000000\n",
       "mean     14.703355\n",
       "std      13.517863\n",
       "min       5.000000\n",
       "25%       5.000000\n",
       "50%       6.600000\n",
       "75%      22.100000\n",
       "max      80.800000"
      ]
     },
     "execution_count": 6,
     "metadata": {},
     "output_type": "execute_result"
    }
   ],
   "source": [
    "df.describe()"
   ]
  },
  {
   "cell_type": "code",
   "execution_count": 7,
   "metadata": {
    "collapsed": false
   },
   "outputs": [
    {
     "data": {
      "text/plain": [
       "'\\ndata is skewed, most countries have low levels of undernourishment. \\n'"
      ]
     },
     "execution_count": 7,
     "metadata": {},
     "output_type": "execute_result"
    },
    {
     "data": {
      "image/png": "[encoded data removed]",
      "text/plain": [
       "<matplotlib.figure.Figure at 0x768298882150>"
      ]
     },
     "metadata": {},
     "output_type": "display_data"
    }
   ],
   "source": [
    "df['Value'].plot.box()\n",
    "'''\n",
    "data is skewed, most countries have low levels of undernourishment. \n",
    "'''"
   ]
  },
  {
   "cell_type": "code",
   "execution_count": 8,
   "metadata": {
    "collapsed": false
   },
   "outputs": [],
   "source": [
    "highest_undernourishment_percent = df.sort_values(by = 'Value', ascending = False)"
   ]
  },
  {
   "cell_type": "code",
   "execution_count": 9,
   "metadata": {
    "collapsed": false
   },
   "outputs": [
    {
     "data": {
      "text/html": [
       "<div>\n",
       "<style>\n",
       "    .dataframe thead tr:only-child th {\n",
       "        text-align: right;\n",
       "    }\n",
       "\n",
       "    .dataframe thead th {\n",
       "        text-align: left;\n",
       "    }\n",
       "\n",
       "    .dataframe tbody tr th {\n",
       "        vertical-align: top;\n",
       "    }\n",
       "</style>\n",
       "<table border=\"1\" class=\"dataframe\">\n",
       "  <thead>\n",
       "    <tr style=\"text-align: right;\">\n",
       "      <th></th>\n",
       "      <th>Country or Area</th>\n",
       "      <th>Year</th>\n",
       "      <th>Value</th>\n",
       "      <th>Value Footnotes</th>\n",
       "    </tr>\n",
       "  </thead>\n",
       "  <tbody>\n",
       "    <tr>\n",
       "      <th>1823</th>\n",
       "      <td>Georgia</td>\n",
       "      <td>1992</td>\n",
       "      <td>80.8</td>\n",
       "      <td>24</td>\n",
       "    </tr>\n",
       "    <tr>\n",
       "      <th>1373</th>\n",
       "      <td>Djibouti</td>\n",
       "      <td>1992</td>\n",
       "      <td>76.8</td>\n",
       "      <td>24</td>\n",
       "    </tr>\n",
       "    <tr>\n",
       "      <th>1372</th>\n",
       "      <td>Djibouti</td>\n",
       "      <td>1993</td>\n",
       "      <td>75.9</td>\n",
       "      <td>23</td>\n",
       "    </tr>\n",
       "    <tr>\n",
       "      <th>1598</th>\n",
       "      <td>Ethiopia</td>\n",
       "      <td>1992</td>\n",
       "      <td>75.2</td>\n",
       "      <td>24</td>\n",
       "    </tr>\n",
       "    <tr>\n",
       "      <th>1599</th>\n",
       "      <td>Ethiopia</td>\n",
       "      <td>1991</td>\n",
       "      <td>74.8</td>\n",
       "      <td>25</td>\n",
       "    </tr>\n",
       "    <tr>\n",
       "      <th>1374</th>\n",
       "      <td>Djibouti</td>\n",
       "      <td>1991</td>\n",
       "      <td>74.8</td>\n",
       "      <td>25</td>\n",
       "    </tr>\n",
       "    <tr>\n",
       "      <th>1371</th>\n",
       "      <td>Djibouti</td>\n",
       "      <td>1994</td>\n",
       "      <td>74.3</td>\n",
       "      <td>22</td>\n",
       "    </tr>\n",
       "    <tr>\n",
       "      <th>1596</th>\n",
       "      <td>Ethiopia</td>\n",
       "      <td>1994</td>\n",
       "      <td>73.4</td>\n",
       "      <td>22</td>\n",
       "    </tr>\n",
       "    <tr>\n",
       "      <th>1597</th>\n",
       "      <td>Ethiopia</td>\n",
       "      <td>1993</td>\n",
       "      <td>72.5</td>\n",
       "      <td>23</td>\n",
       "    </tr>\n",
       "    <tr>\n",
       "      <th>1370</th>\n",
       "      <td>Djibouti</td>\n",
       "      <td>1995</td>\n",
       "      <td>71.5</td>\n",
       "      <td>21</td>\n",
       "    </tr>\n",
       "    <tr>\n",
       "      <th>1595</th>\n",
       "      <td>Ethiopia</td>\n",
       "      <td>1995</td>\n",
       "      <td>71.4</td>\n",
       "      <td>21</td>\n",
       "    </tr>\n",
       "    <tr>\n",
       "      <th>1594</th>\n",
       "      <td>Ethiopia</td>\n",
       "      <td>1996</td>\n",
       "      <td>69.0</td>\n",
       "      <td>20</td>\n",
       "    </tr>\n",
       "    <tr>\n",
       "      <th>1369</th>\n",
       "      <td>Djibouti</td>\n",
       "      <td>1996</td>\n",
       "      <td>68.0</td>\n",
       "      <td>20</td>\n",
       "    </tr>\n",
       "    <tr>\n",
       "      <th>1822</th>\n",
       "      <td>Georgia</td>\n",
       "      <td>1993</td>\n",
       "      <td>67.1</td>\n",
       "      <td>23</td>\n",
       "    </tr>\n",
       "    <tr>\n",
       "      <th>4092</th>\n",
       "      <td>Rwanda</td>\n",
       "      <td>1998</td>\n",
       "      <td>66.4</td>\n",
       "      <td>18</td>\n",
       "    </tr>\n",
       "    <tr>\n",
       "      <th>4093</th>\n",
       "      <td>Rwanda</td>\n",
       "      <td>1997</td>\n",
       "      <td>65.8</td>\n",
       "      <td>19</td>\n",
       "    </tr>\n",
       "    <tr>\n",
       "      <th>1593</th>\n",
       "      <td>Ethiopia</td>\n",
       "      <td>1997</td>\n",
       "      <td>65.7</td>\n",
       "      <td>19</td>\n",
       "    </tr>\n",
       "    <tr>\n",
       "      <th>1821</th>\n",
       "      <td>Georgia</td>\n",
       "      <td>1994</td>\n",
       "      <td>65.0</td>\n",
       "      <td>22</td>\n",
       "    </tr>\n",
       "    <tr>\n",
       "      <th>1368</th>\n",
       "      <td>Djibouti</td>\n",
       "      <td>1997</td>\n",
       "      <td>64.9</td>\n",
       "      <td>19</td>\n",
       "    </tr>\n",
       "    <tr>\n",
       "      <th>147</th>\n",
       "      <td>Angola</td>\n",
       "      <td>1993</td>\n",
       "      <td>64.6</td>\n",
       "      <td>23</td>\n",
       "    </tr>\n",
       "    <tr>\n",
       "      <th>148</th>\n",
       "      <td>Angola</td>\n",
       "      <td>1992</td>\n",
       "      <td>64.5</td>\n",
       "      <td>24</td>\n",
       "    </tr>\n",
       "    <tr>\n",
       "      <th>4091</th>\n",
       "      <td>Rwanda</td>\n",
       "      <td>1999</td>\n",
       "      <td>64.5</td>\n",
       "      <td>17</td>\n",
       "    </tr>\n",
       "    <tr>\n",
       "      <th>146</th>\n",
       "      <td>Angola</td>\n",
       "      <td>1994</td>\n",
       "      <td>64.4</td>\n",
       "      <td>22</td>\n",
       "    </tr>\n",
       "    <tr>\n",
       "      <th>4094</th>\n",
       "      <td>Rwanda</td>\n",
       "      <td>1996</td>\n",
       "      <td>63.9</td>\n",
       "      <td>20</td>\n",
       "    </tr>\n",
       "    <tr>\n",
       "      <th>149</th>\n",
       "      <td>Angola</td>\n",
       "      <td>1991</td>\n",
       "      <td>63.5</td>\n",
       "      <td>25</td>\n",
       "    </tr>\n",
       "    <tr>\n",
       "      <th>2146</th>\n",
       "      <td>Haiti</td>\n",
       "      <td>1994</td>\n",
       "      <td>63.1</td>\n",
       "      <td>22</td>\n",
       "    </tr>\n",
       "    <tr>\n",
       "      <th>1592</th>\n",
       "      <td>Ethiopia</td>\n",
       "      <td>1998</td>\n",
       "      <td>63.0</td>\n",
       "      <td>18</td>\n",
       "    </tr>\n",
       "    <tr>\n",
       "      <th>2145</th>\n",
       "      <td>Haiti</td>\n",
       "      <td>1995</td>\n",
       "      <td>62.8</td>\n",
       "      <td>21</td>\n",
       "    </tr>\n",
       "    <tr>\n",
       "      <th>3373</th>\n",
       "      <td>Myanmar</td>\n",
       "      <td>1992</td>\n",
       "      <td>62.7</td>\n",
       "      <td>24</td>\n",
       "    </tr>\n",
       "    <tr>\n",
       "      <th>2147</th>\n",
       "      <td>Haiti</td>\n",
       "      <td>1993</td>\n",
       "      <td>62.6</td>\n",
       "      <td>23</td>\n",
       "    </tr>\n",
       "    <tr>\n",
       "      <th>...</th>\n",
       "      <td>...</td>\n",
       "      <td>...</td>\n",
       "      <td>...</td>\n",
       "      <td>...</td>\n",
       "    </tr>\n",
       "    <tr>\n",
       "      <th>4854</th>\n",
       "      <td>Tajikistan</td>\n",
       "      <td>2011</td>\n",
       "      <td>36.8</td>\n",
       "      <td>5</td>\n",
       "    </tr>\n",
       "    <tr>\n",
       "      <th>2757</th>\n",
       "      <td>Liberia</td>\n",
       "      <td>2008</td>\n",
       "      <td>36.6</td>\n",
       "      <td>8</td>\n",
       "    </tr>\n",
       "    <tr>\n",
       "      <th>976</th>\n",
       "      <td>Chad</td>\n",
       "      <td>2014</td>\n",
       "      <td>36.1</td>\n",
       "      <td>2</td>\n",
       "    </tr>\n",
       "    <tr>\n",
       "      <th>1579</th>\n",
       "      <td>Ethiopia</td>\n",
       "      <td>2011</td>\n",
       "      <td>36.0</td>\n",
       "      <td>5</td>\n",
       "    </tr>\n",
       "    <tr>\n",
       "      <th>5581</th>\n",
       "      <td>Zimbabwe</td>\n",
       "      <td>2009</td>\n",
       "      <td>36.0</td>\n",
       "      <td>7</td>\n",
       "    </tr>\n",
       "    <tr>\n",
       "      <th>4853</th>\n",
       "      <td>Tajikistan</td>\n",
       "      <td>2012</td>\n",
       "      <td>35.9</td>\n",
       "      <td>4</td>\n",
       "    </tr>\n",
       "    <tr>\n",
       "      <th>2756</th>\n",
       "      <td>Liberia</td>\n",
       "      <td>2009</td>\n",
       "      <td>35.5</td>\n",
       "      <td>7</td>\n",
       "    </tr>\n",
       "    <tr>\n",
       "      <th>4079</th>\n",
       "      <td>Rwanda</td>\n",
       "      <td>2011</td>\n",
       "      <td>35.4</td>\n",
       "      <td>5</td>\n",
       "    </tr>\n",
       "    <tr>\n",
       "      <th>956</th>\n",
       "      <td>Central African Republic</td>\n",
       "      <td>2009</td>\n",
       "      <td>35.3</td>\n",
       "      <td>7</td>\n",
       "    </tr>\n",
       "    <tr>\n",
       "      <th>953</th>\n",
       "      <td>Central African Republic</td>\n",
       "      <td>2012</td>\n",
       "      <td>35.3</td>\n",
       "      <td>4</td>\n",
       "    </tr>\n",
       "    <tr>\n",
       "      <th>4852</th>\n",
       "      <td>Tajikistan</td>\n",
       "      <td>2013</td>\n",
       "      <td>35.0</td>\n",
       "      <td>3</td>\n",
       "    </tr>\n",
       "    <tr>\n",
       "      <th>1578</th>\n",
       "      <td>Ethiopia</td>\n",
       "      <td>2012</td>\n",
       "      <td>34.9</td>\n",
       "      <td>4</td>\n",
       "    </tr>\n",
       "    <tr>\n",
       "      <th>2755</th>\n",
       "      <td>Liberia</td>\n",
       "      <td>2010</td>\n",
       "      <td>34.9</td>\n",
       "      <td>6</td>\n",
       "    </tr>\n",
       "    <tr>\n",
       "      <th>5580</th>\n",
       "      <td>Zimbabwe</td>\n",
       "      <td>2010</td>\n",
       "      <td>34.7</td>\n",
       "      <td>6</td>\n",
       "    </tr>\n",
       "    <tr>\n",
       "      <th>2754</th>\n",
       "      <td>Liberia</td>\n",
       "      <td>2011</td>\n",
       "      <td>34.7</td>\n",
       "      <td>5</td>\n",
       "    </tr>\n",
       "    <tr>\n",
       "      <th>5279</th>\n",
       "      <td>United Republic of Tanzania</td>\n",
       "      <td>2011</td>\n",
       "      <td>34.7</td>\n",
       "      <td>5</td>\n",
       "    </tr>\n",
       "    <tr>\n",
       "      <th>975</th>\n",
       "      <td>Chad</td>\n",
       "      <td>2015</td>\n",
       "      <td>34.4</td>\n",
       "      <td>1</td>\n",
       "    </tr>\n",
       "    <tr>\n",
       "      <th>4078</th>\n",
       "      <td>Rwanda</td>\n",
       "      <td>2012</td>\n",
       "      <td>34.3</td>\n",
       "      <td>4</td>\n",
       "    </tr>\n",
       "    <tr>\n",
       "      <th>2753</th>\n",
       "      <td>Liberia</td>\n",
       "      <td>2012</td>\n",
       "      <td>34.2</td>\n",
       "      <td>4</td>\n",
       "    </tr>\n",
       "    <tr>\n",
       "      <th>4851</th>\n",
       "      <td>Tajikistan</td>\n",
       "      <td>2014</td>\n",
       "      <td>34.0</td>\n",
       "      <td>2</td>\n",
       "    </tr>\n",
       "    <tr>\n",
       "      <th>5576</th>\n",
       "      <td>Zimbabwe</td>\n",
       "      <td>2014</td>\n",
       "      <td>34.0</td>\n",
       "      <td>2</td>\n",
       "    </tr>\n",
       "    <tr>\n",
       "      <th>1577</th>\n",
       "      <td>Ethiopia</td>\n",
       "      <td>2013</td>\n",
       "      <td>33.9</td>\n",
       "      <td>3</td>\n",
       "    </tr>\n",
       "    <tr>\n",
       "      <th>4077</th>\n",
       "      <td>Rwanda</td>\n",
       "      <td>2013</td>\n",
       "      <td>33.6</td>\n",
       "      <td>3</td>\n",
       "    </tr>\n",
       "    <tr>\n",
       "      <th>5577</th>\n",
       "      <td>Zimbabwe</td>\n",
       "      <td>2013</td>\n",
       "      <td>33.5</td>\n",
       "      <td>3</td>\n",
       "    </tr>\n",
       "    <tr>\n",
       "      <th>5575</th>\n",
       "      <td>Zimbabwe</td>\n",
       "      <td>2015</td>\n",
       "      <td>33.4</td>\n",
       "      <td>1</td>\n",
       "    </tr>\n",
       "    <tr>\n",
       "      <th>4850</th>\n",
       "      <td>Tajikistan</td>\n",
       "      <td>2015</td>\n",
       "      <td>33.2</td>\n",
       "      <td>1</td>\n",
       "    </tr>\n",
       "    <tr>\n",
       "      <th>1576</th>\n",
       "      <td>Ethiopia</td>\n",
       "      <td>2014</td>\n",
       "      <td>33.1</td>\n",
       "      <td>2</td>\n",
       "    </tr>\n",
       "    <tr>\n",
       "      <th>2875</th>\n",
       "      <td>Madagascar</td>\n",
       "      <td>2015</td>\n",
       "      <td>33.0</td>\n",
       "      <td>1</td>\n",
       "    </tr>\n",
       "    <tr>\n",
       "      <th>2876</th>\n",
       "      <td>Madagascar</td>\n",
       "      <td>2014</td>\n",
       "      <td>32.8</td>\n",
       "      <td>2</td>\n",
       "    </tr>\n",
       "    <tr>\n",
       "      <th>5275</th>\n",
       "      <td>United Republic of Tanzania</td>\n",
       "      <td>2015</td>\n",
       "      <td>32.1</td>\n",
       "      <td>1</td>\n",
       "    </tr>\n",
       "  </tbody>\n",
       "</table>\n",
       "<p>250 rows × 4 columns</p>\n",
       "</div>"
      ],
      "text/plain": [
       "                  Country or Area  Year  Value Value Footnotes\n",
       "1823                      Georgia  1992   80.8              24\n",
       "1373                     Djibouti  1992   76.8              24\n",
       "1372                     Djibouti  1993   75.9              23\n",
       "1598                     Ethiopia  1992   75.2              24\n",
       "1599                     Ethiopia  1991   74.8              25\n",
       "1374                     Djibouti  1991   74.8              25\n",
       "1371                     Djibouti  1994   74.3              22\n",
       "1596                     Ethiopia  1994   73.4              22\n",
       "1597                     Ethiopia  1993   72.5              23\n",
       "1370                     Djibouti  1995   71.5              21\n",
       "1595                     Ethiopia  1995   71.4              21\n",
       "1594                     Ethiopia  1996   69.0              20\n",
       "1369                     Djibouti  1996   68.0              20\n",
       "1822                      Georgia  1993   67.1              23\n",
       "4092                       Rwanda  1998   66.4              18\n",
       "4093                       Rwanda  1997   65.8              19\n",
       "1593                     Ethiopia  1997   65.7              19\n",
       "1821                      Georgia  1994   65.0              22\n",
       "1368                     Djibouti  1997   64.9              19\n",
       "147                        Angola  1993   64.6              23\n",
       "148                        Angola  1992   64.5              24\n",
       "4091                       Rwanda  1999   64.5              17\n",
       "146                        Angola  1994   64.4              22\n",
       "4094                       Rwanda  1996   63.9              20\n",
       "149                        Angola  1991   63.5              25\n",
       "2146                        Haiti  1994   63.1              22\n",
       "1592                     Ethiopia  1998   63.0              18\n",
       "2145                        Haiti  1995   62.8              21\n",
       "3373                      Myanmar  1992   62.7              24\n",
       "2147                        Haiti  1993   62.6              23\n",
       "...                           ...   ...    ...             ...\n",
       "4854                   Tajikistan  2011   36.8               5\n",
       "2757                      Liberia  2008   36.6               8\n",
       "976                          Chad  2014   36.1               2\n",
       "1579                     Ethiopia  2011   36.0               5\n",
       "5581                     Zimbabwe  2009   36.0               7\n",
       "4853                   Tajikistan  2012   35.9               4\n",
       "2756                      Liberia  2009   35.5               7\n",
       "4079                       Rwanda  2011   35.4               5\n",
       "956      Central African Republic  2009   35.3               7\n",
       "953      Central African Republic  2012   35.3               4\n",
       "4852                   Tajikistan  2013   35.0               3\n",
       "1578                     Ethiopia  2012   34.9               4\n",
       "2755                      Liberia  2010   34.9               6\n",
       "5580                     Zimbabwe  2010   34.7               6\n",
       "2754                      Liberia  2011   34.7               5\n",
       "5279  United Republic of Tanzania  2011   34.7               5\n",
       "975                          Chad  2015   34.4               1\n",
       "4078                       Rwanda  2012   34.3               4\n",
       "2753                      Liberia  2012   34.2               4\n",
       "4851                   Tajikistan  2014   34.0               2\n",
       "5576                     Zimbabwe  2014   34.0               2\n",
       "1577                     Ethiopia  2013   33.9               3\n",
       "4077                       Rwanda  2013   33.6               3\n",
       "5577                     Zimbabwe  2013   33.5               3\n",
       "5575                     Zimbabwe  2015   33.4               1\n",
       "4850                   Tajikistan  2015   33.2               1\n",
       "1576                     Ethiopia  2014   33.1               2\n",
       "2875                   Madagascar  2015   33.0               1\n",
       "2876                   Madagascar  2014   32.8               2\n",
       "5275  United Republic of Tanzania  2015   32.1               1\n",
       "\n",
       "[250 rows x 4 columns]"
      ]
     },
     "execution_count": 9,
     "metadata": {},
     "output_type": "execute_result"
    }
   ],
   "source": [
    "highest_undernourishment_percent.groupby('Year').head(10)"
   ]
  },
  {
   "cell_type": "code",
   "execution_count": 10,
   "metadata": {
    "collapsed": false,
    "scrolled": true
   },
   "outputs": [
    {
     "data": {
      "text/plain": [
       "'\\naverage malnutrition rates have been dropping steadily over the last two decades\\n'"
      ]
     },
     "execution_count": 10,
     "metadata": {},
     "output_type": "execute_result"
    },
    {
     "data": {
      "image/png": "[encoded data removed]",
      "text/plain": [
       "<matplotlib.figure.Figure at 0x76826b8a1410>"
      ]
     },
     "metadata": {},
     "output_type": "display_data"
    }
   ],
   "source": [
    "df.groupby('Year').mean().plot.line(title = \"Global Malnutrition Rates\")\n",
    "'''\n",
    "average malnutrition rates have been dropping steadily over the last two decades\n",
    "'''"
   ]
  },
  {
   "cell_type": "code",
   "execution_count": 11,
   "metadata": {
    "collapsed": false
   },
   "outputs": [
    {
     "data": {
      "text/plain": [
       "(224,)"
      ]
     },
     "execution_count": 11,
     "metadata": {},
     "output_type": "execute_result"
    }
   ],
   "source": [
    "df['Country or Area'].unique().shape"
   ]
  },
  {
   "cell_type": "code",
   "execution_count": 12,
   "metadata": {
    "collapsed": false
   },
   "outputs": [
    {
     "name": "stdout",
     "output_type": "stream",
     "text": [
      "     Country or Area  Year  Value Value Footnotes\n",
      "1823         Georgia  1992   80.8              24\n",
      "1373        Djibouti  1992   76.8              24\n",
      "1372        Djibouti  1993   75.9              23\n",
      "1598        Ethiopia  1992   75.2              24\n",
      "1374        Djibouti  1991   74.8              25\n",
      "1599        Ethiopia  1991   74.8              25\n",
      "1371        Djibouti  1994   74.3              22\n",
      "1596        Ethiopia  1994   73.4              22\n",
      "1597        Ethiopia  1993   72.5              23\n",
      "1370        Djibouti  1995   71.5              21\n",
      "1595        Ethiopia  1995   71.4              21\n",
      "1594        Ethiopia  1996   69.0              20\n",
      "1369        Djibouti  1996   68.0              20\n",
      "1822         Georgia  1993   67.1              23\n",
      "4092          Rwanda  1998   66.4              18\n",
      "4093          Rwanda  1997   65.8              19\n",
      "1593        Ethiopia  1997   65.7              19\n",
      "1821         Georgia  1994   65.0              22\n",
      "1368        Djibouti  1997   64.9              19\n",
      "147           Angola  1993   64.6              23\n"
     ]
    },
    {
     "data": {
      "text/plain": [
       "'\\nsome countries consistently have the highest level of malnutrition\\nearly nineties had the highest rates of malnutrition \\npolitical unrest\\n'"
      ]
     },
     "execution_count": 12,
     "metadata": {},
     "output_type": "execute_result"
    }
   ],
   "source": [
    "print df.nlargest(20, 'Value')\n",
    "'''\n",
    "some countries consistently have the highest level of malnutrition\n",
    "early nineties had the highest rates of malnutrition \n",
    "political unrest\n",
    "'''"
   ]
  },
  {
   "cell_type": "code",
   "execution_count": 13,
   "metadata": {
    "collapsed": false
   },
   "outputs": [
    {
     "data": {
      "text/plain": [
       "<matplotlib.axes._subplots.AxesSubplot at 0x768267ca0e50>"
      ]
     },
     "execution_count": 13,
     "metadata": {},
     "output_type": "execute_result"
    },
    {
     "data": {
      "image/png": "[encoded data removed]",
      "text/plain": [
       "<matplotlib.figure.Figure at 0x76826443a650>"
      ]
     },
     "metadata": {},
     "output_type": "display_data"
    }
   ],
   "source": [
    "df.loc[df['Country or Area'] == 'Georgia'].sort_values\\\n",
    "(by = 'Year', ascending = True).set_index('Year').\\\n",
    "plot.line(title = \"Malnutrition in Georgia\")"
   ]
  },
  {
   "cell_type": "code",
   "execution_count": 14,
   "metadata": {
    "collapsed": false
   },
   "outputs": [
    {
     "data": {
      "text/plain": [
       "<matplotlib.axes._subplots.AxesSubplot at 0x76826439aa10>"
      ]
     },
     "execution_count": 14,
     "metadata": {},
     "output_type": "execute_result"
    },
    {
     "data": {
      "image/png": "[encoded data removed]",
      "text/plain": [
       "<matplotlib.figure.Figure at 0x7682643157d0>"
      ]
     },
     "metadata": {},
     "output_type": "display_data"
    }
   ],
   "source": [
    "df.loc[df['Country or Area'] == 'Djibouti'].sort_values(by = 'Year', ascending = True).set_index('Year').plot.line()"
   ]
  },
  {
   "cell_type": "code",
   "execution_count": 15,
   "metadata": {
    "collapsed": false
   },
   "outputs": [
    {
     "data": {
      "text/plain": [
       "\"\\nrwanda's undernourishment rate was low and then went up after the 1994 genocide, before starting to lower again. \\nwhat does this say about conflict and undernourishment?\\n\""
      ]
     },
     "execution_count": 15,
     "metadata": {},
     "output_type": "execute_result"
    },
    {
     "data": {
      "image/png": "[encoded data removed]",
      "text/plain": [
       "<matplotlib.figure.Figure at 0x76826426c410>"
      ]
     },
     "metadata": {},
     "output_type": "display_data"
    }
   ],
   "source": [
    "df.loc[df['Country or Area'] == 'Rwanda'].sort_values(by = 'Year', ascending = True).set_index('Year').plot.line()\n",
    "'''\n",
    "rwanda's undernourishment rate was low and then went up after the 1994 genocide, before starting to lower again. \n",
    "what does this say about conflict and undernourishment?\n",
    "'''"
   ]
  },
  {
   "cell_type": "code",
   "execution_count": 16,
   "metadata": {
    "collapsed": false
   },
   "outputs": [
    {
     "data": {
      "text/plain": [
       "<matplotlib.axes._subplots.AxesSubplot at 0x768264212cd0>"
      ]
     },
     "execution_count": 16,
     "metadata": {},
     "output_type": "execute_result"
    },
    {
     "data": {
      "image/png": "[encoded data removed]",
      "text/plain": [
       "<matplotlib.figure.Figure at 0x7682641a7d10>"
      ]
     },
     "metadata": {},
     "output_type": "display_data"
    }
   ],
   "source": [
    "df.loc[df['Country or Area'] == 'Kenya'].sort_values\\\n",
    "(by = 'Year', ascending = True).set_index('Year').\\\n",
    "plot.line(title = 'Malnutrition in Kenya')"
   ]
  },
  {
   "cell_type": "code",
   "execution_count": 17,
   "metadata": {
    "collapsed": false
   },
   "outputs": [
    {
     "data": {
      "text/plain": [
       "'\\nUndernourishment has been going up in Iraq\\nAlso noticed as I was charting this graph that data is missing for Somali, Libya, and Sudan.\\nAdding to say that those countries are in the data set udner different names\\nOne of the few countries where undernourishment has gone up \\n'"
      ]
     },
     "execution_count": 17,
     "metadata": {},
     "output_type": "execute_result"
    },
    {
     "data": {
      "image/png": "[encoded data removed]",
      "text/plain": [
       "<matplotlib.figure.Figure at 0x7682640dbb90>"
      ]
     },
     "metadata": {},
     "output_type": "display_data"
    }
   ],
   "source": [
    "df.loc[df['Country or Area'] == 'Iraq'].sort_values(by = 'Year', ascending = True).set_index('Year').plot.line()\n",
    "'''\n",
    "Undernourishment has been going up in Iraq\n",
    "Also noticed as I was charting this graph that data is missing for Somali, Libya, and Sudan.\n",
    "Adding to say that those countries are in the data set udner different names\n",
    "One of the few countries where undernourishment has gone up \n",
    "'''"
   ]
  },
  {
   "cell_type": "code",
   "execution_count": 18,
   "metadata": {
    "collapsed": false
   },
   "outputs": [
    {
     "data": {
      "text/plain": [
       "<matplotlib.axes._subplots.AxesSubplot at 0x7682640c25d0>"
      ]
     },
     "execution_count": 18,
     "metadata": {},
     "output_type": "execute_result"
    },
    {
     "data": {
      "image/png": "[encoded data removed]",
      "text/plain": [
       "<matplotlib.figure.Figure at 0x768264031110>"
      ]
     },
     "metadata": {},
     "output_type": "display_data"
    }
   ],
   "source": [
    "df.loc[df['Country or Area'] == 'Chad'].sort_values(by = 'Year', ascending = True).set_index('Year').plot.line()\n"
   ]
  },
  {
   "cell_type": "code",
   "execution_count": 19,
   "metadata": {
    "collapsed": false
   },
   "outputs": [
    {
     "data": {
      "text/plain": [
       "<matplotlib.axes._subplots.AxesSubplot at 0x76826410c790>"
      ]
     },
     "execution_count": 19,
     "metadata": {},
     "output_type": "execute_result"
    },
    {
     "data": {
      "image/png": "[encoded data removed]",
      "text/plain": [
       "<matplotlib.figure.Figure at 0x768263f75bd0>"
      ]
     },
     "metadata": {},
     "output_type": "display_data"
    }
   ],
   "source": [
    "df.loc[df['Country or Area'] == 'Turkey'].sort_values(by = 'Year', ascending = True).set_index('Year').plot.line()\n"
   ]
  },
  {
   "cell_type": "code",
   "execution_count": 20,
   "metadata": {
    "collapsed": false
   },
   "outputs": [
    {
     "data": {
      "text/plain": [
       "'\\neven more convinced that the 5% is also missing data of some sort\\n'"
      ]
     },
     "execution_count": 20,
     "metadata": {},
     "output_type": "execute_result"
    },
    {
     "data": {
      "image/png": "[encoded data removed]",
      "text/plain": [
       "<matplotlib.figure.Figure at 0x768264045c90>"
      ]
     },
     "metadata": {},
     "output_type": "display_data"
    }
   ],
   "source": [
    "df.loc[df['Country or Area'] == 'Mexico'].sort_values(by = 'Year', ascending = True).set_index('Year').plot.line()\n",
    "'''\n",
    "even more convinced that the 5% is also missing data of some sort\n",
    "'''"
   ]
  },
  {
   "cell_type": "code",
   "execution_count": 21,
   "metadata": {
    "collapsed": false
   },
   "outputs": [
    {
     "data": {
      "text/plain": [
       "<matplotlib.axes._subplots.AxesSubplot at 0x768264258bd0>"
      ]
     },
     "execution_count": 21,
     "metadata": {},
     "output_type": "execute_result"
    },
    {
     "data": {
      "image/png": "[encoded data removed]",
      "text/plain": [
       "<matplotlib.figure.Figure at 0x768267cbc0d0>"
      ]
     },
     "metadata": {},
     "output_type": "display_data"
    }
   ],
   "source": [
    "df.loc[df['Country or Area'] == 'Yemen'].sort_values(by = 'Year', ascending = True).set_index('Year').plot.line()\n"
   ]
  },
  {
   "cell_type": "code",
   "execution_count": 22,
   "metadata": {
    "collapsed": false
   },
   "outputs": [],
   "source": [
    "mean_undernourishment = df.groupby('Country or Area').mean()"
   ]
  },
  {
   "cell_type": "code",
   "execution_count": 23,
   "metadata": {
    "collapsed": false
   },
   "outputs": [
    {
     "data": {
      "text/html": [
       "<div>\n",
       "<style>\n",
       "    .dataframe thead tr:only-child th {\n",
       "        text-align: right;\n",
       "    }\n",
       "\n",
       "    .dataframe thead th {\n",
       "        text-align: left;\n",
       "    }\n",
       "\n",
       "    .dataframe tbody tr th {\n",
       "        vertical-align: top;\n",
       "    }\n",
       "</style>\n",
       "<table border=\"1\" class=\"dataframe\">\n",
       "  <thead>\n",
       "    <tr style=\"text-align: right;\">\n",
       "      <th></th>\n",
       "      <th>Value</th>\n",
       "    </tr>\n",
       "  </thead>\n",
       "  <tbody>\n",
       "    <tr>\n",
       "      <th>count</th>\n",
       "      <td>171.000000</td>\n",
       "    </tr>\n",
       "    <tr>\n",
       "      <th>mean</th>\n",
       "      <td>14.736846</td>\n",
       "    </tr>\n",
       "    <tr>\n",
       "      <th>std</th>\n",
       "      <td>12.482396</td>\n",
       "    </tr>\n",
       "    <tr>\n",
       "      <th>min</th>\n",
       "      <td>5.000000</td>\n",
       "    </tr>\n",
       "    <tr>\n",
       "      <th>25%</th>\n",
       "      <td>5.000000</td>\n",
       "    </tr>\n",
       "    <tr>\n",
       "      <th>50%</th>\n",
       "      <td>8.352000</td>\n",
       "    </tr>\n",
       "    <tr>\n",
       "      <th>75%</th>\n",
       "      <td>22.570000</td>\n",
       "    </tr>\n",
       "    <tr>\n",
       "      <th>max</th>\n",
       "      <td>56.400000</td>\n",
       "    </tr>\n",
       "  </tbody>\n",
       "</table>\n",
       "</div>"
      ],
      "text/plain": [
       "            Value\n",
       "count  171.000000\n",
       "mean    14.736846\n",
       "std     12.482396\n",
       "min      5.000000\n",
       "25%      5.000000\n",
       "50%      8.352000\n",
       "75%     22.570000\n",
       "max     56.400000"
      ]
     },
     "execution_count": 23,
     "metadata": {},
     "output_type": "execute_result"
    }
   ],
   "source": [
    "mean_undernourishment.describe()"
   ]
  },
  {
   "cell_type": "code",
   "execution_count": 24,
   "metadata": {
    "collapsed": false
   },
   "outputs": [
    {
     "data": {
      "text/plain": [
       "'\\nIs most of the data just 5% undernourishment? Is that a default value? \\n'"
      ]
     },
     "execution_count": 24,
     "metadata": {},
     "output_type": "execute_result"
    },
    {
     "data": {
      "image/png": "[encoded data removed]",
      "text/plain": [
       "<matplotlib.figure.Figure at 0x76826442e310>"
      ]
     },
     "metadata": {},
     "output_type": "display_data"
    }
   ],
   "source": [
    "mean_undernourishment.plot.hist(bins = 50)\n",
    "'''\n",
    "Is most of the data just 5% undernourishment? Is that a default value? \n",
    "'''"
   ]
  },
  {
   "cell_type": "code",
   "execution_count": 25,
   "metadata": {
    "collapsed": false
   },
   "outputs": [
    {
     "data": {
      "text/html": [
       "<div>\n",
       "<style>\n",
       "    .dataframe thead tr:only-child th {\n",
       "        text-align: right;\n",
       "    }\n",
       "\n",
       "    .dataframe thead th {\n",
       "        text-align: left;\n",
       "    }\n",
       "\n",
       "    .dataframe tbody tr th {\n",
       "        vertical-align: top;\n",
       "    }\n",
       "</style>\n",
       "<table border=\"1\" class=\"dataframe\">\n",
       "  <thead>\n",
       "    <tr style=\"text-align: right;\">\n",
       "      <th></th>\n",
       "      <th>Value</th>\n",
       "    </tr>\n",
       "    <tr>\n",
       "      <th>Country or Area</th>\n",
       "      <th></th>\n",
       "    </tr>\n",
       "  </thead>\n",
       "  <tbody>\n",
       "    <tr>\n",
       "      <th>Afghanistan</th>\n",
       "      <td>35.812</td>\n",
       "    </tr>\n",
       "    <tr>\n",
       "      <th>Albania</th>\n",
       "      <td>5.000</td>\n",
       "    </tr>\n",
       "    <tr>\n",
       "      <th>Algeria</th>\n",
       "      <td>6.984</td>\n",
       "    </tr>\n",
       "    <tr>\n",
       "      <th>American Samoa</th>\n",
       "      <td>NaN</td>\n",
       "    </tr>\n",
       "    <tr>\n",
       "      <th>Andorra</th>\n",
       "      <td>5.000</td>\n",
       "    </tr>\n",
       "  </tbody>\n",
       "</table>\n",
       "</div>"
      ],
      "text/plain": [
       "                  Value\n",
       "Country or Area        \n",
       "Afghanistan      35.812\n",
       "Albania           5.000\n",
       "Algeria           6.984\n",
       "American Samoa      NaN\n",
       "Andorra           5.000"
      ]
     },
     "execution_count": 25,
     "metadata": {},
     "output_type": "execute_result"
    }
   ],
   "source": [
    "mean_undernourishment.head()"
   ]
  },
  {
   "cell_type": "code",
   "execution_count": 26,
   "metadata": {
    "collapsed": false
   },
   "outputs": [],
   "source": [
    "df = mean_undernourishment.reset_index()"
   ]
  },
  {
   "cell_type": "code",
   "execution_count": 27,
   "metadata": {
    "collapsed": false
   },
   "outputs": [],
   "source": [
    "df.sort_values(by = 'Value', inplace = True, ascending = True)\n"
   ]
  },
  {
   "cell_type": "code",
   "execution_count": 28,
   "metadata": {
    "collapsed": false
   },
   "outputs": [
    {
     "name": "stdout",
     "output_type": "stream",
     "text": [
      "                            Country or Area   Value\n",
      "85                                    Haiti  56.400\n",
      "63                                 Ethiopia  52.324\n",
      "163                                  Rwanda  49.064\n",
      "54                                 Djibouti  44.960\n",
      "222                                  Zambia  44.392\n",
      "39                                     Chad  43.728\n",
      "38                 Central African Republic  42.960\n",
      "133                              Mozambique  40.860\n",
      "134                                 Myanmar  40.616\n",
      "5                                    Angola  40.592\n",
      "223                                Zimbabwe  40.584\n",
      "194                              Tajikistan  36.204\n",
      "102  Korea, Democratic People's Republic of  36.116\n",
      "110                                 Liberia  35.884\n",
      "0                               Afghanistan  35.812\n",
      "197                             Timor-Leste  35.736\n",
      "44                                    Congo  35.416\n",
      "129                                Mongolia  34.712\n",
      "176                            Sierra Leone  34.492\n",
      "135                                 Namibia  34.380\n"
     ]
    },
    {
     "data": {
      "text/plain": [
       "'\\nCountries with the highest percentage of malnutrition\\n'"
      ]
     },
     "execution_count": 28,
     "metadata": {},
     "output_type": "execute_result"
    }
   ],
   "source": [
    "print df.nlargest(20, 'Value')\n",
    "'''\n",
    "Countries with the highest percentage of malnutrition\n",
    "'''"
   ]
  },
  {
   "cell_type": "raw",
   "metadata": {},
   "source": [
    "df.head()"
   ]
  },
  {
   "cell_type": "code",
   "execution_count": 29,
   "metadata": {
    "collapsed": false
   },
   "outputs": [
    {
     "name": "stdout",
     "output_type": "stream",
     "text": [
      "Value    64\n",
      "dtype: int64\n",
      "Value    37.426901\n",
      "dtype: float64\n"
     ]
    },
    {
     "data": {
      "text/plain": [
       "\"\\nthere are 64 countries for which the mean undernourishment for the last fifteen years is 5%. this isn't really a \\nmissing data problem, because developed countries probably have the best data collection. i'm just baffled at the\\nidea of imposing a maximum minimum undernourishment percentage\\n\\n37% of this countries are at 5% \\n\""
      ]
     },
     "execution_count": 29,
     "metadata": {},
     "output_type": "execute_result"
    }
   ],
   "source": [
    "print mean_undernourishment[mean_undernourishment['Value'] == 5].count()\n",
    "print mean_undernourishment[mean_undernourishment['Value'] == 5].count()/mean_undernourishment.count() * 100\n",
    "'''\n",
    "there are 64 countries for which the mean undernourishment for the last fifteen years is 5%. this isn't really a \n",
    "missing data problem, because developed countries probably have the best data collection. i'm just baffled at the\n",
    "idea of imposing a maximum minimum undernourishment percentage\n",
    "\n",
    "37% of this countries are at 5% \n",
    "'''"
   ]
  }
 ],
 "metadata": {
  "kernelspec": {
   "display_name": "Python 2",
   "language": "python",
   "name": "python2"
  },
  "language_info": {
   "codemirror_mode": {
    "name": "ipython",
    "version": 2
   },
   "file_extension": ".py",
   "mimetype": "text/x-python",
   "name": "python",
   "nbconvert_exporter": "python",
   "pygments_lexer": "ipython2",
   "version": "2.7.13"
  }
 },
 "nbformat": 4,
 "nbformat_minor": 2
}
